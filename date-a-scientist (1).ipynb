{
 "cells": [
  {
   "cell_type": "code",
   "execution_count": 254,
   "metadata": {},
   "outputs": [],
   "source": [
    "### Question: How can I best predict if a person on a dating app wants kids???\n",
    "\n",
    "#profiles.csv was provided by Codecademy.com"
   ]
  },
  {
   "cell_type": "code",
   "execution_count": 255,
   "metadata": {
    "scrolled": true
   },
   "outputs": [
    {
     "data": {
      "text/html": [
       "<div>\n",
       "<style scoped>\n",
       "    .dataframe tbody tr th:only-of-type {\n",
       "        vertical-align: middle;\n",
       "    }\n",
       "\n",
       "    .dataframe tbody tr th {\n",
       "        vertical-align: top;\n",
       "    }\n",
       "\n",
       "    .dataframe thead th {\n",
       "        text-align: right;\n",
       "    }\n",
       "</style>\n",
       "<table border=\"1\" class=\"dataframe\">\n",
       "  <thead>\n",
       "    <tr style=\"text-align: right;\">\n",
       "      <th></th>\n",
       "      <th>age</th>\n",
       "      <th>body_type</th>\n",
       "      <th>diet</th>\n",
       "      <th>drinks</th>\n",
       "      <th>drugs</th>\n",
       "      <th>education</th>\n",
       "      <th>essay0</th>\n",
       "      <th>essay1</th>\n",
       "      <th>essay2</th>\n",
       "      <th>essay3</th>\n",
       "      <th>...</th>\n",
       "      <th>location</th>\n",
       "      <th>offspring</th>\n",
       "      <th>orientation</th>\n",
       "      <th>pets</th>\n",
       "      <th>religion</th>\n",
       "      <th>sex</th>\n",
       "      <th>sign</th>\n",
       "      <th>smokes</th>\n",
       "      <th>speaks</th>\n",
       "      <th>status</th>\n",
       "    </tr>\n",
       "  </thead>\n",
       "  <tbody>\n",
       "    <tr>\n",
       "      <th>0</th>\n",
       "      <td>22</td>\n",
       "      <td>a little extra</td>\n",
       "      <td>strictly anything</td>\n",
       "      <td>socially</td>\n",
       "      <td>never</td>\n",
       "      <td>working on college/university</td>\n",
       "      <td>about me:&lt;br /&gt;\\n&lt;br /&gt;\\ni would love to think...</td>\n",
       "      <td>currently working as an international agent fo...</td>\n",
       "      <td>making people laugh.&lt;br /&gt;\\nranting about a go...</td>\n",
       "      <td>the way i look. i am a six foot half asian, ha...</td>\n",
       "      <td>...</td>\n",
       "      <td>south san francisco, california</td>\n",
       "      <td>doesn&amp;rsquo;t have kids, but might want them</td>\n",
       "      <td>straight</td>\n",
       "      <td>likes dogs and likes cats</td>\n",
       "      <td>agnosticism and very serious about it</td>\n",
       "      <td>m</td>\n",
       "      <td>gemini</td>\n",
       "      <td>sometimes</td>\n",
       "      <td>english</td>\n",
       "      <td>single</td>\n",
       "    </tr>\n",
       "    <tr>\n",
       "      <th>1</th>\n",
       "      <td>35</td>\n",
       "      <td>average</td>\n",
       "      <td>mostly other</td>\n",
       "      <td>often</td>\n",
       "      <td>sometimes</td>\n",
       "      <td>working on space camp</td>\n",
       "      <td>i am a chef: this is what that means.&lt;br /&gt;\\n1...</td>\n",
       "      <td>dedicating everyday to being an unbelievable b...</td>\n",
       "      <td>being silly. having ridiculous amonts of fun w...</td>\n",
       "      <td>NaN</td>\n",
       "      <td>...</td>\n",
       "      <td>oakland, california</td>\n",
       "      <td>doesn&amp;rsquo;t have kids, but might want them</td>\n",
       "      <td>straight</td>\n",
       "      <td>likes dogs and likes cats</td>\n",
       "      <td>agnosticism but not too serious about it</td>\n",
       "      <td>m</td>\n",
       "      <td>cancer</td>\n",
       "      <td>no</td>\n",
       "      <td>english (fluently), spanish (poorly), french (...</td>\n",
       "      <td>single</td>\n",
       "    </tr>\n",
       "    <tr>\n",
       "      <th>2</th>\n",
       "      <td>38</td>\n",
       "      <td>thin</td>\n",
       "      <td>anything</td>\n",
       "      <td>socially</td>\n",
       "      <td>NaN</td>\n",
       "      <td>graduated from masters program</td>\n",
       "      <td>i'm not ashamed of much, but writing public te...</td>\n",
       "      <td>i make nerdy software for musicians, artists, ...</td>\n",
       "      <td>improvising in different contexts. alternating...</td>\n",
       "      <td>my large jaw and large glasses are the physica...</td>\n",
       "      <td>...</td>\n",
       "      <td>san francisco, california</td>\n",
       "      <td>NaN</td>\n",
       "      <td>straight</td>\n",
       "      <td>has cats</td>\n",
       "      <td>NaN</td>\n",
       "      <td>m</td>\n",
       "      <td>pisces but it doesn&amp;rsquo;t matter</td>\n",
       "      <td>no</td>\n",
       "      <td>english, french, c++</td>\n",
       "      <td>available</td>\n",
       "    </tr>\n",
       "    <tr>\n",
       "      <th>3</th>\n",
       "      <td>23</td>\n",
       "      <td>thin</td>\n",
       "      <td>vegetarian</td>\n",
       "      <td>socially</td>\n",
       "      <td>NaN</td>\n",
       "      <td>working on college/university</td>\n",
       "      <td>i work in a library and go to school. . .</td>\n",
       "      <td>reading things written by old dead people</td>\n",
       "      <td>playing synthesizers and organizing books acco...</td>\n",
       "      <td>socially awkward but i do my best</td>\n",
       "      <td>...</td>\n",
       "      <td>berkeley, california</td>\n",
       "      <td>doesn&amp;rsquo;t want kids</td>\n",
       "      <td>straight</td>\n",
       "      <td>likes cats</td>\n",
       "      <td>NaN</td>\n",
       "      <td>m</td>\n",
       "      <td>pisces</td>\n",
       "      <td>no</td>\n",
       "      <td>english, german (poorly)</td>\n",
       "      <td>single</td>\n",
       "    </tr>\n",
       "    <tr>\n",
       "      <th>4</th>\n",
       "      <td>29</td>\n",
       "      <td>athletic</td>\n",
       "      <td>NaN</td>\n",
       "      <td>socially</td>\n",
       "      <td>never</td>\n",
       "      <td>graduated from college/university</td>\n",
       "      <td>hey how's it going? currently vague on the pro...</td>\n",
       "      <td>work work work work + play</td>\n",
       "      <td>creating imagery to look at:&lt;br /&gt;\\nhttp://bag...</td>\n",
       "      <td>i smile a lot and my inquisitive nature</td>\n",
       "      <td>...</td>\n",
       "      <td>san francisco, california</td>\n",
       "      <td>NaN</td>\n",
       "      <td>straight</td>\n",
       "      <td>likes dogs and likes cats</td>\n",
       "      <td>NaN</td>\n",
       "      <td>m</td>\n",
       "      <td>aquarius</td>\n",
       "      <td>no</td>\n",
       "      <td>english</td>\n",
       "      <td>single</td>\n",
       "    </tr>\n",
       "    <tr>\n",
       "      <th>...</th>\n",
       "      <td>...</td>\n",
       "      <td>...</td>\n",
       "      <td>...</td>\n",
       "      <td>...</td>\n",
       "      <td>...</td>\n",
       "      <td>...</td>\n",
       "      <td>...</td>\n",
       "      <td>...</td>\n",
       "      <td>...</td>\n",
       "      <td>...</td>\n",
       "      <td>...</td>\n",
       "      <td>...</td>\n",
       "      <td>...</td>\n",
       "      <td>...</td>\n",
       "      <td>...</td>\n",
       "      <td>...</td>\n",
       "      <td>...</td>\n",
       "      <td>...</td>\n",
       "      <td>...</td>\n",
       "      <td>...</td>\n",
       "      <td>...</td>\n",
       "    </tr>\n",
       "    <tr>\n",
       "      <th>59941</th>\n",
       "      <td>59</td>\n",
       "      <td>NaN</td>\n",
       "      <td>NaN</td>\n",
       "      <td>socially</td>\n",
       "      <td>never</td>\n",
       "      <td>graduated from college/university</td>\n",
       "      <td>vibrant, expressive, caring optimist. i love b...</td>\n",
       "      <td>the happiest times have been when life came to...</td>\n",
       "      <td>i make an outstanding osso bucco. i am also ve...</td>\n",
       "      <td>i am told that people notice my smile, eyes an...</td>\n",
       "      <td>...</td>\n",
       "      <td>oakland, california</td>\n",
       "      <td>has kids</td>\n",
       "      <td>straight</td>\n",
       "      <td>has dogs</td>\n",
       "      <td>catholicism but not too serious about it</td>\n",
       "      <td>f</td>\n",
       "      <td>cancer and it&amp;rsquo;s fun to think about</td>\n",
       "      <td>no</td>\n",
       "      <td>english</td>\n",
       "      <td>single</td>\n",
       "    </tr>\n",
       "    <tr>\n",
       "      <th>59942</th>\n",
       "      <td>24</td>\n",
       "      <td>fit</td>\n",
       "      <td>mostly anything</td>\n",
       "      <td>often</td>\n",
       "      <td>sometimes</td>\n",
       "      <td>working on college/university</td>\n",
       "      <td>i'm nick.&lt;br /&gt;\\ni never know what to write ab...</td>\n",
       "      <td>currently finishing school for film production...</td>\n",
       "      <td>&lt;a class=\"ilink\" href=\"/interests?i=filmmaking...</td>\n",
       "      <td>dude, i don't know.</td>\n",
       "      <td>...</td>\n",
       "      <td>san francisco, california</td>\n",
       "      <td>doesn&amp;rsquo;t have kids</td>\n",
       "      <td>straight</td>\n",
       "      <td>likes dogs and likes cats</td>\n",
       "      <td>agnosticism</td>\n",
       "      <td>m</td>\n",
       "      <td>leo but it doesn&amp;rsquo;t matter</td>\n",
       "      <td>no</td>\n",
       "      <td>english (fluently)</td>\n",
       "      <td>single</td>\n",
       "    </tr>\n",
       "    <tr>\n",
       "      <th>59943</th>\n",
       "      <td>42</td>\n",
       "      <td>average</td>\n",
       "      <td>mostly anything</td>\n",
       "      <td>not at all</td>\n",
       "      <td>never</td>\n",
       "      <td>graduated from masters program</td>\n",
       "      <td>hello! i enjoy traveling, watching movies, and...</td>\n",
       "      <td>i'm a civil engineer, who enjoys helping the c...</td>\n",
       "      <td>- looking at things objectively&lt;br /&gt;\\n- getti...</td>\n",
       "      <td>i'm quiet until i get used to the environment ...</td>\n",
       "      <td>...</td>\n",
       "      <td>south san francisco, california</td>\n",
       "      <td>doesn&amp;rsquo;t have kids</td>\n",
       "      <td>straight</td>\n",
       "      <td>NaN</td>\n",
       "      <td>christianity but not too serious about it</td>\n",
       "      <td>m</td>\n",
       "      <td>sagittarius but it doesn&amp;rsquo;t matter</td>\n",
       "      <td>no</td>\n",
       "      <td>english (fluently)</td>\n",
       "      <td>single</td>\n",
       "    </tr>\n",
       "    <tr>\n",
       "      <th>59944</th>\n",
       "      <td>27</td>\n",
       "      <td>athletic</td>\n",
       "      <td>mostly anything</td>\n",
       "      <td>socially</td>\n",
       "      <td>often</td>\n",
       "      <td>working on college/university</td>\n",
       "      <td>\"all i have in this world are my balls and my ...</td>\n",
       "      <td>following my dreams...&lt;br /&gt;\\n\"you got a dream...</td>\n",
       "      <td>listening</td>\n",
       "      <td>it used to be the hair until i mowed it off bu...</td>\n",
       "      <td>...</td>\n",
       "      <td>san francisco, california</td>\n",
       "      <td>doesn&amp;rsquo;t have kids, but wants them</td>\n",
       "      <td>straight</td>\n",
       "      <td>likes dogs and likes cats</td>\n",
       "      <td>agnosticism but not too serious about it</td>\n",
       "      <td>m</td>\n",
       "      <td>leo and it&amp;rsquo;s fun to think about</td>\n",
       "      <td>trying to quit</td>\n",
       "      <td>english (fluently), spanish (poorly), chinese ...</td>\n",
       "      <td>single</td>\n",
       "    </tr>\n",
       "    <tr>\n",
       "      <th>59945</th>\n",
       "      <td>39</td>\n",
       "      <td>average</td>\n",
       "      <td>NaN</td>\n",
       "      <td>socially</td>\n",
       "      <td>NaN</td>\n",
       "      <td>graduated from masters program</td>\n",
       "      <td>is it odd that having a little \"enemy\" status ...</td>\n",
       "      <td>i work with elderly people (psychotherapy and ...</td>\n",
       "      <td>i'm a great bullshitter. i don't know what it ...</td>\n",
       "      <td>either that i am funny/sarcastic, or that i am...</td>\n",
       "      <td>...</td>\n",
       "      <td>san francisco, california</td>\n",
       "      <td>NaN</td>\n",
       "      <td>gay</td>\n",
       "      <td>likes dogs and likes cats</td>\n",
       "      <td>catholicism and laughing about it</td>\n",
       "      <td>m</td>\n",
       "      <td>gemini and it&amp;rsquo;s fun to think about</td>\n",
       "      <td>sometimes</td>\n",
       "      <td>english</td>\n",
       "      <td>single</td>\n",
       "    </tr>\n",
       "  </tbody>\n",
       "</table>\n",
       "<p>59946 rows × 31 columns</p>\n",
       "</div>"
      ],
      "text/plain": [
       "       age       body_type               diet      drinks      drugs  \\\n",
       "0       22  a little extra  strictly anything    socially      never   \n",
       "1       35         average       mostly other       often  sometimes   \n",
       "2       38            thin           anything    socially        NaN   \n",
       "3       23            thin         vegetarian    socially        NaN   \n",
       "4       29        athletic                NaN    socially      never   \n",
       "...    ...             ...                ...         ...        ...   \n",
       "59941   59             NaN                NaN    socially      never   \n",
       "59942   24             fit    mostly anything       often  sometimes   \n",
       "59943   42         average    mostly anything  not at all      never   \n",
       "59944   27        athletic    mostly anything    socially      often   \n",
       "59945   39         average                NaN    socially        NaN   \n",
       "\n",
       "                               education  \\\n",
       "0          working on college/university   \n",
       "1                  working on space camp   \n",
       "2         graduated from masters program   \n",
       "3          working on college/university   \n",
       "4      graduated from college/university   \n",
       "...                                  ...   \n",
       "59941  graduated from college/university   \n",
       "59942      working on college/university   \n",
       "59943     graduated from masters program   \n",
       "59944      working on college/university   \n",
       "59945     graduated from masters program   \n",
       "\n",
       "                                                  essay0  \\\n",
       "0      about me:<br />\\n<br />\\ni would love to think...   \n",
       "1      i am a chef: this is what that means.<br />\\n1...   \n",
       "2      i'm not ashamed of much, but writing public te...   \n",
       "3              i work in a library and go to school. . .   \n",
       "4      hey how's it going? currently vague on the pro...   \n",
       "...                                                  ...   \n",
       "59941  vibrant, expressive, caring optimist. i love b...   \n",
       "59942  i'm nick.<br />\\ni never know what to write ab...   \n",
       "59943  hello! i enjoy traveling, watching movies, and...   \n",
       "59944  \"all i have in this world are my balls and my ...   \n",
       "59945  is it odd that having a little \"enemy\" status ...   \n",
       "\n",
       "                                                  essay1  \\\n",
       "0      currently working as an international agent fo...   \n",
       "1      dedicating everyday to being an unbelievable b...   \n",
       "2      i make nerdy software for musicians, artists, ...   \n",
       "3              reading things written by old dead people   \n",
       "4                             work work work work + play   \n",
       "...                                                  ...   \n",
       "59941  the happiest times have been when life came to...   \n",
       "59942  currently finishing school for film production...   \n",
       "59943  i'm a civil engineer, who enjoys helping the c...   \n",
       "59944  following my dreams...<br />\\n\"you got a dream...   \n",
       "59945  i work with elderly people (psychotherapy and ...   \n",
       "\n",
       "                                                  essay2  \\\n",
       "0      making people laugh.<br />\\nranting about a go...   \n",
       "1      being silly. having ridiculous amonts of fun w...   \n",
       "2      improvising in different contexts. alternating...   \n",
       "3      playing synthesizers and organizing books acco...   \n",
       "4      creating imagery to look at:<br />\\nhttp://bag...   \n",
       "...                                                  ...   \n",
       "59941  i make an outstanding osso bucco. i am also ve...   \n",
       "59942  <a class=\"ilink\" href=\"/interests?i=filmmaking...   \n",
       "59943  - looking at things objectively<br />\\n- getti...   \n",
       "59944                                          listening   \n",
       "59945  i'm a great bullshitter. i don't know what it ...   \n",
       "\n",
       "                                                  essay3  ...  \\\n",
       "0      the way i look. i am a six foot half asian, ha...  ...   \n",
       "1                                                    NaN  ...   \n",
       "2      my large jaw and large glasses are the physica...  ...   \n",
       "3                      socially awkward but i do my best  ...   \n",
       "4                i smile a lot and my inquisitive nature  ...   \n",
       "...                                                  ...  ...   \n",
       "59941  i am told that people notice my smile, eyes an...  ...   \n",
       "59942                                dude, i don't know.  ...   \n",
       "59943  i'm quiet until i get used to the environment ...  ...   \n",
       "59944  it used to be the hair until i mowed it off bu...  ...   \n",
       "59945  either that i am funny/sarcastic, or that i am...  ...   \n",
       "\n",
       "                              location  \\\n",
       "0      south san francisco, california   \n",
       "1                  oakland, california   \n",
       "2            san francisco, california   \n",
       "3                 berkeley, california   \n",
       "4            san francisco, california   \n",
       "...                                ...   \n",
       "59941              oakland, california   \n",
       "59942        san francisco, california   \n",
       "59943  south san francisco, california   \n",
       "59944        san francisco, california   \n",
       "59945        san francisco, california   \n",
       "\n",
       "                                          offspring orientation  \\\n",
       "0      doesn&rsquo;t have kids, but might want them    straight   \n",
       "1      doesn&rsquo;t have kids, but might want them    straight   \n",
       "2                                               NaN    straight   \n",
       "3                           doesn&rsquo;t want kids    straight   \n",
       "4                                               NaN    straight   \n",
       "...                                             ...         ...   \n",
       "59941                                      has kids    straight   \n",
       "59942                       doesn&rsquo;t have kids    straight   \n",
       "59943                       doesn&rsquo;t have kids    straight   \n",
       "59944       doesn&rsquo;t have kids, but wants them    straight   \n",
       "59945                                           NaN         gay   \n",
       "\n",
       "                            pets                                   religion  \\\n",
       "0      likes dogs and likes cats      agnosticism and very serious about it   \n",
       "1      likes dogs and likes cats   agnosticism but not too serious about it   \n",
       "2                       has cats                                        NaN   \n",
       "3                     likes cats                                        NaN   \n",
       "4      likes dogs and likes cats                                        NaN   \n",
       "...                          ...                                        ...   \n",
       "59941                   has dogs   catholicism but not too serious about it   \n",
       "59942  likes dogs and likes cats                                agnosticism   \n",
       "59943                        NaN  christianity but not too serious about it   \n",
       "59944  likes dogs and likes cats   agnosticism but not too serious about it   \n",
       "59945  likes dogs and likes cats          catholicism and laughing about it   \n",
       "\n",
       "      sex                                      sign          smokes  \\\n",
       "0       m                                    gemini       sometimes   \n",
       "1       m                                    cancer              no   \n",
       "2       m        pisces but it doesn&rsquo;t matter              no   \n",
       "3       m                                    pisces              no   \n",
       "4       m                                  aquarius              no   \n",
       "...    ..                                       ...             ...   \n",
       "59941   f  cancer and it&rsquo;s fun to think about              no   \n",
       "59942   m           leo but it doesn&rsquo;t matter              no   \n",
       "59943   m   sagittarius but it doesn&rsquo;t matter              no   \n",
       "59944   m     leo and it&rsquo;s fun to think about  trying to quit   \n",
       "59945   m  gemini and it&rsquo;s fun to think about       sometimes   \n",
       "\n",
       "                                                  speaks     status  \n",
       "0                                                english     single  \n",
       "1      english (fluently), spanish (poorly), french (...     single  \n",
       "2                                   english, french, c++  available  \n",
       "3                               english, german (poorly)     single  \n",
       "4                                                english     single  \n",
       "...                                                  ...        ...  \n",
       "59941                                            english     single  \n",
       "59942                                 english (fluently)     single  \n",
       "59943                                 english (fluently)     single  \n",
       "59944  english (fluently), spanish (poorly), chinese ...     single  \n",
       "59945                                            english     single  \n",
       "\n",
       "[59946 rows x 31 columns]"
      ]
     },
     "execution_count": 255,
     "metadata": {},
     "output_type": "execute_result"
    }
   ],
   "source": [
    "#loading data in as pandas dataframe\n",
    "\n",
    "import pandas as pd\n",
    "\n",
    "profiles = pd.read_csv('profiles.csv')\n",
    "profiles"
   ]
  },
  {
   "cell_type": "code",
   "execution_count": 256,
   "metadata": {},
   "outputs": [],
   "source": [
    "###Exploratory data analysis"
   ]
  },
  {
   "cell_type": "code",
   "execution_count": 257,
   "metadata": {},
   "outputs": [
    {
     "data": {
      "text/plain": [
       "single            55697\n",
       "seeing someone     2064\n",
       "available          1865\n",
       "married             310\n",
       "unknown              10\n",
       "Name: status, dtype: int64"
      ]
     },
     "execution_count": 257,
     "metadata": {},
     "output_type": "execute_result"
    }
   ],
   "source": [
    "profiles.status.value_counts()\n"
   ]
  },
  {
   "cell_type": "code",
   "execution_count": 258,
   "metadata": {},
   "outputs": [
    {
     "data": {
      "text/html": [
       "<div>\n",
       "<style scoped>\n",
       "    .dataframe tbody tr th:only-of-type {\n",
       "        vertical-align: middle;\n",
       "    }\n",
       "\n",
       "    .dataframe tbody tr th {\n",
       "        vertical-align: top;\n",
       "    }\n",
       "\n",
       "    .dataframe thead th {\n",
       "        text-align: right;\n",
       "    }\n",
       "</style>\n",
       "<table border=\"1\" class=\"dataframe\">\n",
       "  <thead>\n",
       "    <tr style=\"text-align: right;\">\n",
       "      <th></th>\n",
       "      <th>body_type</th>\n",
       "      <th>counts</th>\n",
       "    </tr>\n",
       "  </thead>\n",
       "  <tbody>\n",
       "    <tr>\n",
       "      <th>0</th>\n",
       "      <td>average</td>\n",
       "      <td>14652</td>\n",
       "    </tr>\n",
       "    <tr>\n",
       "      <th>1</th>\n",
       "      <td>fit</td>\n",
       "      <td>12711</td>\n",
       "    </tr>\n",
       "    <tr>\n",
       "      <th>2</th>\n",
       "      <td>athletic</td>\n",
       "      <td>11819</td>\n",
       "    </tr>\n",
       "    <tr>\n",
       "      <th>3</th>\n",
       "      <td>thin</td>\n",
       "      <td>4711</td>\n",
       "    </tr>\n",
       "    <tr>\n",
       "      <th>4</th>\n",
       "      <td>curvy</td>\n",
       "      <td>3924</td>\n",
       "    </tr>\n",
       "    <tr>\n",
       "      <th>5</th>\n",
       "      <td>a little extra</td>\n",
       "      <td>2629</td>\n",
       "    </tr>\n",
       "    <tr>\n",
       "      <th>6</th>\n",
       "      <td>skinny</td>\n",
       "      <td>1777</td>\n",
       "    </tr>\n",
       "    <tr>\n",
       "      <th>7</th>\n",
       "      <td>full figured</td>\n",
       "      <td>1009</td>\n",
       "    </tr>\n",
       "    <tr>\n",
       "      <th>8</th>\n",
       "      <td>overweight</td>\n",
       "      <td>444</td>\n",
       "    </tr>\n",
       "    <tr>\n",
       "      <th>9</th>\n",
       "      <td>jacked</td>\n",
       "      <td>421</td>\n",
       "    </tr>\n",
       "    <tr>\n",
       "      <th>10</th>\n",
       "      <td>used up</td>\n",
       "      <td>355</td>\n",
       "    </tr>\n",
       "    <tr>\n",
       "      <th>11</th>\n",
       "      <td>rather not say</td>\n",
       "      <td>198</td>\n",
       "    </tr>\n",
       "  </tbody>\n",
       "</table>\n",
       "</div>"
      ],
      "text/plain": [
       "         body_type  counts\n",
       "0          average   14652\n",
       "1              fit   12711\n",
       "2         athletic   11819\n",
       "3             thin    4711\n",
       "4            curvy    3924\n",
       "5   a little extra    2629\n",
       "6           skinny    1777\n",
       "7     full figured    1009\n",
       "8       overweight     444\n",
       "9           jacked     421\n",
       "10         used up     355\n",
       "11  rather not say     198"
      ]
     },
     "execution_count": 258,
     "metadata": {},
     "output_type": "execute_result"
    }
   ],
   "source": [
    "import matplotlib.pyplot as plt\n",
    "import seaborn as sns\n",
    "body_type = profiles.body_type.value_counts()\n",
    "\n",
    "df_value_counts = pd.DataFrame(body_type)\n",
    "df_value_counts = df_value_counts.reset_index()\n",
    "df_value_counts.columns = ['body_type', 'counts']\n",
    "\n",
    "df_value_counts"
   ]
  },
  {
   "cell_type": "code",
   "execution_count": 259,
   "metadata": {},
   "outputs": [
    {
     "data": {
      "text/plain": [
       "<seaborn.axisgrid.FacetGrid at 0x184abf52fa0>"
      ]
     },
     "execution_count": 259,
     "metadata": {},
     "output_type": "execute_result"
    },
    {
     "data": {
      "image/png": "[encoded data removed]",
      "text/plain": [
       "<Figure size 360x360 with 1 Axes>"
      ]
     },
     "metadata": {
      "needs_background": "light"
     },
     "output_type": "display_data"
    }
   ],
   "source": [
    "sns.displot(data = profiles, x = 'age',kind = 'hist',binwidth = 5)"
   ]
  },
  {
   "cell_type": "code",
   "execution_count": 260,
   "metadata": {},
   "outputs": [
    {
     "data": {
      "text/plain": [
       "<seaborn.axisgrid.FacetGrid at 0x184a34e1bb0>"
      ]
     },
     "execution_count": 260,
     "metadata": {},
     "output_type": "execute_result"
    },
    {
     "data": {
      "image/png": "[encoded data removed]",
      "text/plain": [
       "<Figure size 405.625x360 with 1 Axes>"
      ]
     },
     "metadata": {
      "needs_background": "light"
     },
     "output_type": "display_data"
    }
   ],
   "source": [
    "sns.displot(data = profiles, x = 'age',kind = 'hist',binwidth = 5,hue = 'sex',multiple = 'stack')"
   ]
  },
  {
   "cell_type": "code",
   "execution_count": 261,
   "metadata": {},
   "outputs": [
    {
     "data": {
      "text/plain": [
       "<seaborn.axisgrid.FacetGrid at 0x184abebccd0>"
      ]
     },
     "execution_count": 261,
     "metadata": {},
     "output_type": "execute_result"
    },
    {
     "data": {
      "image/png": "[encoded data removed]",
      "text/plain": [
       "<Figure size 405.625x360 with 1 Axes>"
      ]
     },
     "metadata": {
      "needs_background": "light"
     },
     "output_type": "display_data"
    }
   ],
   "source": [
    "sns.displot(data = profiles, x = 'height',kind = 'hist',binwidth = 3,hue = 'sex',multiple = 'stack')"
   ]
  },
  {
   "cell_type": "code",
   "execution_count": 262,
   "metadata": {},
   "outputs": [
    {
     "data": {
      "text/plain": [
       "<seaborn.axisgrid.FacetGrid at 0x184abf49580>"
      ]
     },
     "execution_count": 262,
     "metadata": {},
     "output_type": "execute_result"
    },
    {
     "data": {
      "image/png": "[encoded data removed]",
      "text/plain": [
       "<Figure size 405.625x360 with 1 Axes>"
      ]
     },
     "metadata": {
      "needs_background": "light"
     },
     "output_type": "display_data"
    }
   ],
   "source": [
    "sns.displot(data=profiles, x=\"income\",hue=\"sex\", kind=\"hist\", binwidth = 50000, multiple = \"stack\")"
   ]
  },
  {
   "cell_type": "code",
   "execution_count": 263,
   "metadata": {},
   "outputs": [
    {
     "data": {
      "text/plain": [
       "<seaborn.axisgrid.FacetGrid at 0x184a350f190>"
      ]
     },
     "execution_count": 263,
     "metadata": {},
     "output_type": "execute_result"
    },
    {
     "data": {
      "image/png": "[encoded data removed]",
      "text/plain": [
       "<Figure size 405.625x360 with 1 Axes>"
      ]
     },
     "metadata": {
      "needs_background": "light"
     },
     "output_type": "display_data"
    }
   ],
   "source": [
    "sns.displot(data=profiles, y=\"job\",hue=\"sex\", kind=\"hist\", multiple = \"stack\")"
   ]
  },
  {
   "cell_type": "code",
   "execution_count": 264,
   "metadata": {},
   "outputs": [
    {
     "data": {
      "text/plain": [
       "<seaborn.axisgrid.FacetGrid at 0x184b94e51c0>"
      ]
     },
     "execution_count": 264,
     "metadata": {},
     "output_type": "execute_result"
    },
    {
     "data": {
      "image/png": "[encoded data removed]",
      "text/plain": [
       "<Figure size 405.625x360 with 1 Axes>"
      ]
     },
     "metadata": {
      "needs_background": "light"
     },
     "output_type": "display_data"
    }
   ],
   "source": [
    "sns.displot(data=profiles, y=\"diet\",hue=\"sex\", kind=\"hist\", multiple = \"stack\")"
   ]
  },
  {
   "cell_type": "code",
   "execution_count": 265,
   "metadata": {},
   "outputs": [
    {
     "data": {
      "text/plain": [
       "<AxesSubplot:xlabel='count', ylabel='sex'>"
      ]
     },
     "execution_count": 265,
     "metadata": {},
     "output_type": "execute_result"
    },
    {
     "data": {
      "image/png": "[encoded data removed]",
      "text/plain": [
       "<Figure size 432x288 with 1 Axes>"
      ]
     },
     "metadata": {
      "needs_background": "light"
     },
     "output_type": "display_data"
    }
   ],
   "source": [
    "sns.countplot(data=profiles, y=\"sex\")"
   ]
  },
  {
   "cell_type": "code",
   "execution_count": 266,
   "metadata": {},
   "outputs": [
    {
     "data": {
      "text/plain": [
       "<AxesSubplot:xlabel='count', ylabel='body_type'>"
      ]
     },
     "execution_count": 266,
     "metadata": {},
     "output_type": "execute_result"
    },
    {
     "data": {
      "image/png": "[encoded data removed]",
      "text/plain": [
       "<Figure size 432x288 with 1 Axes>"
      ]
     },
     "metadata": {
      "needs_background": "light"
     },
     "output_type": "display_data"
    }
   ],
   "source": [
    "sns.countplot(data=profiles, y=\"body_type\")"
   ]
  },
  {
   "cell_type": "code",
   "execution_count": 267,
   "metadata": {},
   "outputs": [
    {
     "data": {
      "text/plain": [
       "<AxesSubplot:xlabel='count', ylabel='body_type'>"
      ]
     },
     "execution_count": 267,
     "metadata": {},
     "output_type": "execute_result"
    },
    {
     "data": {
      "image/png": "[encoded data removed]",
      "text/plain": [
       "<Figure size 432x288 with 1 Axes>"
      ]
     },
     "metadata": {
      "needs_background": "light"
     },
     "output_type": "display_data"
    }
   ],
   "source": [
    "sns.countplot(data=profiles, y=\"body_type\", hue = \"sex\")"
   ]
  },
  {
   "cell_type": "code",
   "execution_count": 268,
   "metadata": {},
   "outputs": [
    {
     "data": {
      "text/plain": [
       "<AxesSubplot:xlabel='count', ylabel='drinks'>"
      ]
     },
     "execution_count": 268,
     "metadata": {},
     "output_type": "execute_result"
    },
    {
     "data": {
      "image/png": "[encoded data removed]",
      "text/plain": [
       "<Figure size 432x288 with 1 Axes>"
      ]
     },
     "metadata": {
      "needs_background": "light"
     },
     "output_type": "display_data"
    }
   ],
   "source": [
    "sns.countplot(data=profiles, y=\"drinks\")"
   ]
  },
  {
   "cell_type": "code",
   "execution_count": 269,
   "metadata": {},
   "outputs": [
    {
     "data": {
      "text/plain": [
       "<AxesSubplot:xlabel='count', ylabel='drugs'>"
      ]
     },
     "execution_count": 269,
     "metadata": {},
     "output_type": "execute_result"
    },
    {
     "data": {
      "image/png": "[encoded data removed]",
      "text/plain": [
       "<Figure size 432x288 with 1 Axes>"
      ]
     },
     "metadata": {
      "needs_background": "light"
     },
     "output_type": "display_data"
    }
   ],
   "source": [
    "sns.countplot(data=profiles, y=\"drugs\", hue = \"sex\")"
   ]
  },
  {
   "cell_type": "code",
   "execution_count": 270,
   "metadata": {},
   "outputs": [
    {
     "data": {
      "text/plain": [
       "<AxesSubplot:xlabel='count', ylabel='education'>"
      ]
     },
     "execution_count": 270,
     "metadata": {},
     "output_type": "execute_result"
    },
    {
     "data": {
      "image/png": "[encoded data removed]",
      "text/plain": [
       "<Figure size 360x432 with 1 Axes>"
      ]
     },
     "metadata": {
      "needs_background": "light"
     },
     "output_type": "display_data"
    }
   ],
   "source": [
    "plt.figure(figsize=(5,6))\n",
    "sns.countplot(data=profiles, y=\"education\")"
   ]
  },
  {
   "cell_type": "code",
   "execution_count": 271,
   "metadata": {},
   "outputs": [
    {
     "data": {
      "text/plain": [
       "<AxesSubplot:xlabel='count', ylabel='religionCleaned'>"
      ]
     },
     "execution_count": 271,
     "metadata": {},
     "output_type": "execute_result"
    },
    {
     "data": {
      "image/png": "[encoded data removed]",
      "text/plain": [
       "<Figure size 432x288 with 1 Axes>"
      ]
     },
     "metadata": {
      "needs_background": "light"
     },
     "output_type": "display_data"
    }
   ],
   "source": [
    "profiles['religionCleaned'] = profiles.religion.str.split().str.get(0)\n",
    "sns.countplot(data=profiles, y=\"religionCleaned\")"
   ]
  },
  {
   "cell_type": "code",
   "execution_count": 272,
   "metadata": {},
   "outputs": [
    {
     "data": {
      "image/png": "[encoded data removed]",
      "text/plain": [
       "<Figure size 432x288 with 1 Axes>"
      ]
     },
     "metadata": {
      "needs_background": "light"
     },
     "output_type": "display_data"
    }
   ],
   "source": [
    "sns.countplot(data=profiles, y=\"smokes\");"
   ]
  },
  {
   "cell_type": "code",
   "execution_count": 273,
   "metadata": {},
   "outputs": [
    {
     "data": {
      "image/png": "[encoded data removed]",
      "text/plain": [
       "<Figure size 432x288 with 1 Axes>"
      ]
     },
     "metadata": {
      "needs_background": "light"
     },
     "output_type": "display_data"
    }
   ],
   "source": [
    "sns.countplot(data=profiles, y=\"status\");"
   ]
  },
  {
   "cell_type": "code",
   "execution_count": 274,
   "metadata": {},
   "outputs": [
    {
     "data": {
      "text/plain": [
       "<AxesSubplot:xlabel='count', ylabel='pets'>"
      ]
     },
     "execution_count": 274,
     "metadata": {},
     "output_type": "execute_result"
    },
    {
     "data": {
      "image/png": "[encoded data removed]",
      "text/plain": [
       "<Figure size 432x288 with 1 Axes>"
      ]
     },
     "metadata": {
      "needs_background": "light"
     },
     "output_type": "display_data"
    }
   ],
   "source": [
    "sns.countplot(data=profiles, y=\"pets\")"
   ]
  },
  {
   "cell_type": "code",
   "execution_count": 275,
   "metadata": {},
   "outputs": [
    {
     "data": {
      "text/plain": [
       "<AxesSubplot:xlabel='count', ylabel='offspring'>"
      ]
     },
     "execution_count": 275,
     "metadata": {},
     "output_type": "execute_result"
    },
    {
     "data": {
      "image/png": "[encoded data removed]",
      "text/plain": [
       "<Figure size 432x288 with 1 Axes>"
      ]
     },
     "metadata": {
      "needs_background": "light"
     },
     "output_type": "display_data"
    }
   ],
   "source": [
    "sns.countplot(data=profiles, y=\"offspring\")"
   ]
  },
  {
   "cell_type": "code",
   "execution_count": 276,
   "metadata": {},
   "outputs": [
    {
     "data": {
      "text/plain": [
       "doesn&rsquo;t have kids                                7560\n",
       "doesn&rsquo;t have kids, but might want them           3875\n",
       "doesn&rsquo;t have kids, but wants them                3565\n",
       "doesn&rsquo;t want kids                                2927\n",
       "has kids                                               1883\n",
       "has a kid                                              1881\n",
       "doesn&rsquo;t have kids, and doesn&rsquo;t want any    1132\n",
       "has kids, but doesn&rsquo;t want more                   442\n",
       "has a kid, but doesn&rsquo;t want more                  275\n",
       "has a kid, and might want more                          231\n",
       "wants kids                                              225\n",
       "might want kids                                         182\n",
       "has kids, and might want more                           115\n",
       "has a kid, and wants more                                71\n",
       "has kids, and wants more                                 21\n",
       "Name: offspring, dtype: int64"
      ]
     },
     "execution_count": 276,
     "metadata": {},
     "output_type": "execute_result"
    }
   ],
   "source": [
    "profiles.offspring.value_counts()"
   ]
  },
  {
   "cell_type": "code",
   "execution_count": 277,
   "metadata": {},
   "outputs": [],
   "source": [
    "# Changing strings that say if they want kids or not to a 0, 1, or 2\n",
    "\n",
    "# A 0 means theu dont want kids\n",
    "# A 1 means they might want kids\n",
    "# A 2 means they want kids\n",
    "profiles['wants_kids'] =profiles.offspring.map({'doesn&rsquo;t have kids, but might want them':1,'doesn&rsquo;t have kids, but wants them':2,'doesn&rsquo;t want kids':0,'doesn&rsquo;t have kids, and doesn&rsquo;t want any':0,'has kids, but doesn&rsquo;t want more':0,'has a kid, and might want more':1,'wants kids':2,'might want kids':1,'has a kid, and wants more':2,'has kids, and wants more':2})"
   ]
  },
  {
   "cell_type": "code",
   "execution_count": 278,
   "metadata": {},
   "outputs": [],
   "source": [
    "#### Preprocessing\n"
   ]
  },
  {
   "cell_type": "code",
   "execution_count": 279,
   "metadata": {},
   "outputs": [
    {
     "data": {
      "text/plain": [
       "age                    0\n",
       "body_type           5296\n",
       "diet               24395\n",
       "drinks              2985\n",
       "drugs              14080\n",
       "education           6628\n",
       "essay0              5488\n",
       "essay1              7572\n",
       "essay2              9638\n",
       "essay3             11476\n",
       "essay4             10537\n",
       "essay5             10850\n",
       "essay6             13771\n",
       "essay7             12451\n",
       "essay8             19225\n",
       "essay9             12603\n",
       "ethnicity           5680\n",
       "height                 3\n",
       "income                 0\n",
       "job                 8198\n",
       "last_online            0\n",
       "location               0\n",
       "offspring          35561\n",
       "orientation            0\n",
       "pets               19921\n",
       "religion           20226\n",
       "sex                    0\n",
       "sign               11056\n",
       "smokes              5512\n",
       "speaks                50\n",
       "status                 0\n",
       "religionCleaned    20226\n",
       "wants_kids         47275\n",
       "dtype: int64"
      ]
     },
     "execution_count": 279,
     "metadata": {},
     "output_type": "execute_result"
    }
   ],
   "source": [
    "profiles.isnull().sum()"
   ]
  },
  {
   "cell_type": "code",
   "execution_count": 280,
   "metadata": {},
   "outputs": [
    {
     "data": {
      "text/plain": [
       "(5042, 12)"
      ]
     },
     "execution_count": 280,
     "metadata": {},
     "output_type": "execute_result"
    }
   ],
   "source": [
    "cols = ['body_type', 'diet', 'orientation', 'pets', 'religionCleaned',\n",
    "       'sex', 'job','age','smokes','drinks','drugs','wants_kids']\n",
    "df = profiles[cols].dropna()\n",
    "df.shape"
   ]
  },
  {
   "cell_type": "code",
   "execution_count": 281,
   "metadata": {},
   "outputs": [],
   "source": [
    "categorical = ['body_type', 'diet', 'orientation', 'pets', 'religionCleaned',\n",
    "       'sex', 'job','smokes','drinks','drugs','wants_kids']\n",
    "other = 'age'\n",
    "\n",
    "labels = 'wants_kids'"
   ]
  },
  {
   "cell_type": "code",
   "execution_count": 282,
   "metadata": {},
   "outputs": [],
   "source": [
    "#getting dummies for categorical features\n",
    "for col in categorical[:-1]:\n",
    "    df = pd.get_dummies(df, columns=[col], prefix = [col])"
   ]
  },
  {
   "cell_type": "code",
   "execution_count": 283,
   "metadata": {},
   "outputs": [
    {
     "data": {
      "text/html": [
       "<div>\n",
       "<style scoped>\n",
       "    .dataframe tbody tr th:only-of-type {\n",
       "        vertical-align: middle;\n",
       "    }\n",
       "\n",
       "    .dataframe tbody tr th {\n",
       "        vertical-align: top;\n",
       "    }\n",
       "\n",
       "    .dataframe thead th {\n",
       "        text-align: right;\n",
       "    }\n",
       "</style>\n",
       "<table border=\"1\" class=\"dataframe\">\n",
       "  <thead>\n",
       "    <tr style=\"text-align: right;\">\n",
       "      <th></th>\n",
       "      <th>age</th>\n",
       "      <th>wants_kids</th>\n",
       "      <th>body_type_a little extra</th>\n",
       "      <th>body_type_athletic</th>\n",
       "      <th>body_type_average</th>\n",
       "      <th>body_type_curvy</th>\n",
       "      <th>body_type_fit</th>\n",
       "      <th>body_type_full figured</th>\n",
       "      <th>body_type_jacked</th>\n",
       "      <th>body_type_overweight</th>\n",
       "      <th>...</th>\n",
       "      <th>smokes_yes</th>\n",
       "      <th>drinks_desperately</th>\n",
       "      <th>drinks_not at all</th>\n",
       "      <th>drinks_often</th>\n",
       "      <th>drinks_rarely</th>\n",
       "      <th>drinks_socially</th>\n",
       "      <th>drinks_very often</th>\n",
       "      <th>drugs_never</th>\n",
       "      <th>drugs_often</th>\n",
       "      <th>drugs_sometimes</th>\n",
       "    </tr>\n",
       "  </thead>\n",
       "  <tbody>\n",
       "    <tr>\n",
       "      <th>0</th>\n",
       "      <td>22</td>\n",
       "      <td>1.0</td>\n",
       "      <td>1</td>\n",
       "      <td>0</td>\n",
       "      <td>0</td>\n",
       "      <td>0</td>\n",
       "      <td>0</td>\n",
       "      <td>0</td>\n",
       "      <td>0</td>\n",
       "      <td>0</td>\n",
       "      <td>...</td>\n",
       "      <td>0</td>\n",
       "      <td>0</td>\n",
       "      <td>0</td>\n",
       "      <td>0</td>\n",
       "      <td>0</td>\n",
       "      <td>1</td>\n",
       "      <td>0</td>\n",
       "      <td>1</td>\n",
       "      <td>0</td>\n",
       "      <td>0</td>\n",
       "    </tr>\n",
       "    <tr>\n",
       "      <th>1</th>\n",
       "      <td>35</td>\n",
       "      <td>1.0</td>\n",
       "      <td>0</td>\n",
       "      <td>0</td>\n",
       "      <td>1</td>\n",
       "      <td>0</td>\n",
       "      <td>0</td>\n",
       "      <td>0</td>\n",
       "      <td>0</td>\n",
       "      <td>0</td>\n",
       "      <td>...</td>\n",
       "      <td>0</td>\n",
       "      <td>0</td>\n",
       "      <td>0</td>\n",
       "      <td>1</td>\n",
       "      <td>0</td>\n",
       "      <td>0</td>\n",
       "      <td>0</td>\n",
       "      <td>0</td>\n",
       "      <td>0</td>\n",
       "      <td>1</td>\n",
       "    </tr>\n",
       "    <tr>\n",
       "      <th>7</th>\n",
       "      <td>31</td>\n",
       "      <td>2.0</td>\n",
       "      <td>0</td>\n",
       "      <td>0</td>\n",
       "      <td>1</td>\n",
       "      <td>0</td>\n",
       "      <td>0</td>\n",
       "      <td>0</td>\n",
       "      <td>0</td>\n",
       "      <td>0</td>\n",
       "      <td>...</td>\n",
       "      <td>0</td>\n",
       "      <td>0</td>\n",
       "      <td>0</td>\n",
       "      <td>0</td>\n",
       "      <td>0</td>\n",
       "      <td>1</td>\n",
       "      <td>0</td>\n",
       "      <td>1</td>\n",
       "      <td>0</td>\n",
       "      <td>0</td>\n",
       "    </tr>\n",
       "    <tr>\n",
       "      <th>14</th>\n",
       "      <td>29</td>\n",
       "      <td>2.0</td>\n",
       "      <td>0</td>\n",
       "      <td>0</td>\n",
       "      <td>0</td>\n",
       "      <td>0</td>\n",
       "      <td>0</td>\n",
       "      <td>0</td>\n",
       "      <td>0</td>\n",
       "      <td>0</td>\n",
       "      <td>...</td>\n",
       "      <td>0</td>\n",
       "      <td>0</td>\n",
       "      <td>0</td>\n",
       "      <td>0</td>\n",
       "      <td>0</td>\n",
       "      <td>1</td>\n",
       "      <td>0</td>\n",
       "      <td>1</td>\n",
       "      <td>0</td>\n",
       "      <td>0</td>\n",
       "    </tr>\n",
       "    <tr>\n",
       "      <th>22</th>\n",
       "      <td>30</td>\n",
       "      <td>1.0</td>\n",
       "      <td>0</td>\n",
       "      <td>0</td>\n",
       "      <td>0</td>\n",
       "      <td>0</td>\n",
       "      <td>1</td>\n",
       "      <td>0</td>\n",
       "      <td>0</td>\n",
       "      <td>0</td>\n",
       "      <td>...</td>\n",
       "      <td>0</td>\n",
       "      <td>0</td>\n",
       "      <td>0</td>\n",
       "      <td>0</td>\n",
       "      <td>0</td>\n",
       "      <td>1</td>\n",
       "      <td>0</td>\n",
       "      <td>1</td>\n",
       "      <td>0</td>\n",
       "      <td>0</td>\n",
       "    </tr>\n",
       "  </tbody>\n",
       "</table>\n",
       "<p>5 rows × 94 columns</p>\n",
       "</div>"
      ],
      "text/plain": [
       "    age  wants_kids  body_type_a little extra  body_type_athletic  \\\n",
       "0    22         1.0                         1                   0   \n",
       "1    35         1.0                         0                   0   \n",
       "7    31         2.0                         0                   0   \n",
       "14   29         2.0                         0                   0   \n",
       "22   30         1.0                         0                   0   \n",
       "\n",
       "    body_type_average  body_type_curvy  body_type_fit  body_type_full figured  \\\n",
       "0                   0                0              0                       0   \n",
       "1                   1                0              0                       0   \n",
       "7                   1                0              0                       0   \n",
       "14                  0                0              0                       0   \n",
       "22                  0                0              1                       0   \n",
       "\n",
       "    body_type_jacked  body_type_overweight  ...  smokes_yes  \\\n",
       "0                  0                     0  ...           0   \n",
       "1                  0                     0  ...           0   \n",
       "7                  0                     0  ...           0   \n",
       "14                 0                     0  ...           0   \n",
       "22                 0                     0  ...           0   \n",
       "\n",
       "    drinks_desperately  drinks_not at all  drinks_often  drinks_rarely  \\\n",
       "0                    0                  0             0              0   \n",
       "1                    0                  0             1              0   \n",
       "7                    0                  0             0              0   \n",
       "14                   0                  0             0              0   \n",
       "22                   0                  0             0              0   \n",
       "\n",
       "    drinks_socially  drinks_very often  drugs_never  drugs_often  \\\n",
       "0                 1                  0            1            0   \n",
       "1                 0                  0            0            0   \n",
       "7                 1                  0            1            0   \n",
       "14                1                  0            1            0   \n",
       "22                1                  0            1            0   \n",
       "\n",
       "    drugs_sometimes  \n",
       "0                 0  \n",
       "1                 1  \n",
       "7                 0  \n",
       "14                0  \n",
       "22                0  \n",
       "\n",
       "[5 rows x 94 columns]"
      ]
     },
     "execution_count": 283,
     "metadata": {},
     "output_type": "execute_result"
    }
   ],
   "source": [
    "df.head()"
   ]
  },
  {
   "cell_type": "code",
   "execution_count": 284,
   "metadata": {},
   "outputs": [
    {
     "data": {
      "text/plain": [
       "1.0    1885\n",
       "0.0    1613\n",
       "2.0    1544\n",
       "Name: wants_kids, dtype: int64"
      ]
     },
     "execution_count": 284,
     "metadata": {},
     "output_type": "execute_result"
    }
   ],
   "source": [
    "df['wants_kids'].value_counts()"
   ]
  },
  {
   "cell_type": "code",
   "execution_count": 285,
   "metadata": {},
   "outputs": [
    {
     "data": {
      "text/plain": [
       "0       -1.050525\n",
       "1        0.311268\n",
       "7       -0.107745\n",
       "14      -0.317252\n",
       "22      -0.212498\n",
       "           ...   \n",
       "59861    0.311268\n",
       "59871   -1.260031\n",
       "59876    0.101762\n",
       "59902   -0.631511\n",
       "59944   -0.526758\n",
       "Name: age, Length: 5042, dtype: float64"
      ]
     },
     "execution_count": 285,
     "metadata": {},
     "output_type": "execute_result"
    }
   ],
   "source": [
    "#standardize age\n",
    "\n",
    "df['age'] = (df['age'] -df['age'].mean())/df['age'].std()\n",
    "df['age']"
   ]
  },
  {
   "cell_type": "code",
   "execution_count": 286,
   "metadata": {},
   "outputs": [],
   "source": [
    "#split the data into train and test sets using a train size of .75 and test size of .25\n",
    "df.drop(\"age\", axis=1, inplace=True)\n",
    "\n",
    "col_length = len(df.columns)\n",
    "\n",
    "X = df.iloc[:, 1:col_length]\n",
    "Y = df.iloc[:, 0:1]\n",
    "\n",
    "val_size = 0.25\n",
    "\n",
    "from sklearn.model_selection import train_test_split \n",
    "X_train, X_val, Y_train, Y_val = train_test_split(X, Y, test_size=val_size, random_state = 0)\n",
    "\n",
    "Y_train = Y_train.to_numpy().ravel()\n",
    "Y_val = Y_val.to_numpy().ravel()"
   ]
  },
  {
   "cell_type": "code",
   "execution_count": 287,
   "metadata": {},
   "outputs": [],
   "source": [
    "### Prediction"
   ]
  },
  {
   "cell_type": "code",
   "execution_count": 288,
   "metadata": {},
   "outputs": [],
   "source": [
    "from sklearn.linear_model import LogisticRegression\n",
    "from sklearn.tree import DecisionTreeClassifier\n",
    "from sklearn.neighbors import KNeighborsClassifier"
   ]
  },
  {
   "cell_type": "code",
   "execution_count": 289,
   "metadata": {},
   "outputs": [
    {
     "data": {
      "text/plain": [
       "0.45757335448057096"
      ]
     },
     "execution_count": 289,
     "metadata": {},
     "output_type": "execute_result"
    }
   ],
   "source": [
    "logistic_model = LogisticRegression(multi_class=\"multinomial\",max_iter=300).fit(X_train, Y_train)\n",
    "logistic_predictions = logistic_model.predict(X_val)\n",
    "\n",
    "logistic_model.score(X_val,Y_val)"
   ]
  },
  {
   "cell_type": "code",
   "execution_count": 290,
   "metadata": {},
   "outputs": [
    {
     "name": "stdout",
     "output_type": "stream",
     "text": [
      "              precision    recall  f1-score   support\n",
      "\n",
      "         0.0       0.54      0.44      0.49       425\n",
      "         1.0       0.41      0.49      0.45       459\n",
      "         2.0       0.45      0.43      0.44       377\n",
      "\n",
      "    accuracy                           0.46      1261\n",
      "   macro avg       0.47      0.46      0.46      1261\n",
      "weighted avg       0.47      0.46      0.46      1261\n",
      "\n"
     ]
    }
   ],
   "source": [
    "from sklearn.metrics import classification_report\n",
    "print(classification_report(Y_val, logistic_predictions))"
   ]
  },
  {
   "cell_type": "code",
   "execution_count": 291,
   "metadata": {},
   "outputs": [
    {
     "data": {
      "text/plain": [
       "0.38223632038065025"
      ]
     },
     "execution_count": 291,
     "metadata": {},
     "output_type": "execute_result"
    }
   ],
   "source": [
    "classifier = DecisionTreeClassifier()\n",
    "classifier.fit(X_train, Y_train)\n",
    "tree_predictions = classifier.predict(X_val)\n",
    "classifier.score(X_val,Y_val)"
   ]
  },
  {
   "cell_type": "code",
   "execution_count": 292,
   "metadata": {},
   "outputs": [
    {
     "name": "stdout",
     "output_type": "stream",
     "text": [
      "              precision    recall  f1-score   support\n",
      "\n",
      "         0.0       0.40      0.37      0.39       425\n",
      "         1.0       0.38      0.40      0.39       459\n",
      "         2.0       0.36      0.37      0.37       377\n",
      "\n",
      "    accuracy                           0.38      1261\n",
      "   macro avg       0.38      0.38      0.38      1261\n",
      "weighted avg       0.38      0.38      0.38      1261\n",
      "\n"
     ]
    }
   ],
   "source": [
    "print(classification_report(Y_val, tree_predictions))"
   ]
  },
  {
   "cell_type": "code",
   "execution_count": 293,
   "metadata": {},
   "outputs": [
    {
     "data": {
      "text/plain": [
       "0.4115781126090404"
      ]
     },
     "execution_count": 293,
     "metadata": {},
     "output_type": "execute_result"
    }
   ],
   "source": [
    "k_classifier = KNeighborsClassifier(n_neighbors = 5)\n",
    "k_classifier.fit(X_train, Y_train)\n",
    "k_predictions = k_classifier.predict(X_val)\n",
    "k_classifier.score(X_val,Y_val)"
   ]
  },
  {
   "cell_type": "code",
   "execution_count": 294,
   "metadata": {},
   "outputs": [
    {
     "name": "stdout",
     "output_type": "stream",
     "text": [
      "              precision    recall  f1-score   support\n",
      "\n",
      "         0.0       0.43      0.40      0.42       425\n",
      "         1.0       0.40      0.49      0.44       459\n",
      "         2.0       0.41      0.33      0.37       377\n",
      "\n",
      "    accuracy                           0.41      1261\n",
      "   macro avg       0.41      0.41      0.41      1261\n",
      "weighted avg       0.41      0.41      0.41      1261\n",
      "\n"
     ]
    }
   ],
   "source": [
    "print(classification_report(Y_val, k_predictions))"
   ]
  },
  {
   "cell_type": "code",
   "execution_count": 295,
   "metadata": {},
   "outputs": [
    {
     "data": {
      "image/png": "[encoded data removed]",
      "text/plain": [
       "<Figure size 720x504 with 2 Axes>"
      ]
     },
     "metadata": {
      "needs_background": "light"
     },
     "output_type": "display_data"
    }
   ],
   "source": [
    "from sklearn.metrics import confusion_matrix \n",
    "confusion = confusion_matrix(Y_val, logistic_predictions)\n",
    "labels = logistic_model.classes_\n",
    "\n",
    "plt.figure(figsize=(10,7))\n",
    "\n",
    "ax= plt.subplot()\n",
    "sns.heatmap(confusion, annot=True, ax = ax, fmt=\"d\");\n",
    "\n",
    "ax.set_xlabel('Predicted labels');\n",
    "ax.set_ylabel('True labels'); \n",
    "ax.set_title('Confusion Matrix');\n",
    "ax.yaxis.set_tick_params(rotation=360)\n",
    "ax.xaxis.set_tick_params(rotation=90)\n",
    "\n",
    "ax.xaxis.set_ticklabels(labels);\n",
    "ax.yaxis.set_ticklabels(labels);"
   ]
  },
  {
   "cell_type": "code",
   "execution_count": 296,
   "metadata": {},
   "outputs": [],
   "source": [
    "### none of these models are performing that well, but the logistic Regression model is performing best.\n",
    "# The logistic model has an accuracy of around .46. random guessing would result in a score of .33\n",
    "# My model performs .13 better than randomly guessing which is not ideal.\n"
   ]
  },
  {
   "cell_type": "code",
   "execution_count": null,
   "metadata": {},
   "outputs": [],
   "source": []
  },
  {
   "cell_type": "code",
   "execution_count": 297,
   "metadata": {},
   "outputs": [],
   "source": [
    "## I am going back to try and find better features and drop unnessacary features to improve the overall score"
   ]
  },
  {
   "cell_type": "code",
   "execution_count": null,
   "metadata": {},
   "outputs": [],
   "source": []
  },
  {
   "cell_type": "code",
   "execution_count": 298,
   "metadata": {},
   "outputs": [
    {
     "data": {
      "text/plain": [
       "(6613, 10)"
      ]
     },
     "execution_count": 298,
     "metadata": {},
     "output_type": "execute_result"
    }
   ],
   "source": [
    "# Below is the list of the improved columns I found\n",
    "new_cols = ['status','orientation', 'pets', 'religionCleaned',\n",
    "       'sex','age','smokes','drinks','drugs','wants_kids']\n",
    "df2 = profiles[new_cols].dropna()\n",
    "df2.shape"
   ]
  },
  {
   "cell_type": "code",
   "execution_count": 299,
   "metadata": {},
   "outputs": [],
   "source": [
    "new_categorical = ['status','orientation', 'pets', 'religionCleaned',\n",
    "       'sex','smokes','drinks','drugs','age','wants_kids']\n",
    "\n",
    "labels = 'wants_kids'"
   ]
  },
  {
   "cell_type": "code",
   "execution_count": 300,
   "metadata": {},
   "outputs": [],
   "source": [
    "#getting new dummies for categorical features\n",
    "for col in new_categorical[:-1]:\n",
    "    df2 = pd.get_dummies(df2, columns=[col], prefix = [col])"
   ]
  },
  {
   "cell_type": "code",
   "execution_count": 301,
   "metadata": {},
   "outputs": [
    {
     "data": {
      "text/html": [
       "<div>\n",
       "<style scoped>\n",
       "    .dataframe tbody tr th:only-of-type {\n",
       "        vertical-align: middle;\n",
       "    }\n",
       "\n",
       "    .dataframe tbody tr th {\n",
       "        vertical-align: top;\n",
       "    }\n",
       "\n",
       "    .dataframe thead th {\n",
       "        text-align: right;\n",
       "    }\n",
       "</style>\n",
       "<table border=\"1\" class=\"dataframe\">\n",
       "  <thead>\n",
       "    <tr style=\"text-align: right;\">\n",
       "      <th></th>\n",
       "      <th>wants_kids</th>\n",
       "      <th>body_type_a little extra</th>\n",
       "      <th>body_type_athletic</th>\n",
       "      <th>body_type_average</th>\n",
       "      <th>body_type_curvy</th>\n",
       "      <th>body_type_fit</th>\n",
       "      <th>body_type_full figured</th>\n",
       "      <th>body_type_jacked</th>\n",
       "      <th>body_type_overweight</th>\n",
       "      <th>body_type_rather not say</th>\n",
       "      <th>...</th>\n",
       "      <th>smokes_yes</th>\n",
       "      <th>drinks_desperately</th>\n",
       "      <th>drinks_not at all</th>\n",
       "      <th>drinks_often</th>\n",
       "      <th>drinks_rarely</th>\n",
       "      <th>drinks_socially</th>\n",
       "      <th>drinks_very often</th>\n",
       "      <th>drugs_never</th>\n",
       "      <th>drugs_often</th>\n",
       "      <th>drugs_sometimes</th>\n",
       "    </tr>\n",
       "  </thead>\n",
       "  <tbody>\n",
       "    <tr>\n",
       "      <th>0</th>\n",
       "      <td>1.0</td>\n",
       "      <td>1</td>\n",
       "      <td>0</td>\n",
       "      <td>0</td>\n",
       "      <td>0</td>\n",
       "      <td>0</td>\n",
       "      <td>0</td>\n",
       "      <td>0</td>\n",
       "      <td>0</td>\n",
       "      <td>0</td>\n",
       "      <td>...</td>\n",
       "      <td>0</td>\n",
       "      <td>0</td>\n",
       "      <td>0</td>\n",
       "      <td>0</td>\n",
       "      <td>0</td>\n",
       "      <td>1</td>\n",
       "      <td>0</td>\n",
       "      <td>1</td>\n",
       "      <td>0</td>\n",
       "      <td>0</td>\n",
       "    </tr>\n",
       "    <tr>\n",
       "      <th>1</th>\n",
       "      <td>1.0</td>\n",
       "      <td>0</td>\n",
       "      <td>0</td>\n",
       "      <td>1</td>\n",
       "      <td>0</td>\n",
       "      <td>0</td>\n",
       "      <td>0</td>\n",
       "      <td>0</td>\n",
       "      <td>0</td>\n",
       "      <td>0</td>\n",
       "      <td>...</td>\n",
       "      <td>0</td>\n",
       "      <td>0</td>\n",
       "      <td>0</td>\n",
       "      <td>1</td>\n",
       "      <td>0</td>\n",
       "      <td>0</td>\n",
       "      <td>0</td>\n",
       "      <td>0</td>\n",
       "      <td>0</td>\n",
       "      <td>1</td>\n",
       "    </tr>\n",
       "    <tr>\n",
       "      <th>7</th>\n",
       "      <td>2.0</td>\n",
       "      <td>0</td>\n",
       "      <td>0</td>\n",
       "      <td>1</td>\n",
       "      <td>0</td>\n",
       "      <td>0</td>\n",
       "      <td>0</td>\n",
       "      <td>0</td>\n",
       "      <td>0</td>\n",
       "      <td>0</td>\n",
       "      <td>...</td>\n",
       "      <td>0</td>\n",
       "      <td>0</td>\n",
       "      <td>0</td>\n",
       "      <td>0</td>\n",
       "      <td>0</td>\n",
       "      <td>1</td>\n",
       "      <td>0</td>\n",
       "      <td>1</td>\n",
       "      <td>0</td>\n",
       "      <td>0</td>\n",
       "    </tr>\n",
       "    <tr>\n",
       "      <th>14</th>\n",
       "      <td>2.0</td>\n",
       "      <td>0</td>\n",
       "      <td>0</td>\n",
       "      <td>0</td>\n",
       "      <td>0</td>\n",
       "      <td>0</td>\n",
       "      <td>0</td>\n",
       "      <td>0</td>\n",
       "      <td>0</td>\n",
       "      <td>0</td>\n",
       "      <td>...</td>\n",
       "      <td>0</td>\n",
       "      <td>0</td>\n",
       "      <td>0</td>\n",
       "      <td>0</td>\n",
       "      <td>0</td>\n",
       "      <td>1</td>\n",
       "      <td>0</td>\n",
       "      <td>1</td>\n",
       "      <td>0</td>\n",
       "      <td>0</td>\n",
       "    </tr>\n",
       "    <tr>\n",
       "      <th>22</th>\n",
       "      <td>1.0</td>\n",
       "      <td>0</td>\n",
       "      <td>0</td>\n",
       "      <td>0</td>\n",
       "      <td>0</td>\n",
       "      <td>1</td>\n",
       "      <td>0</td>\n",
       "      <td>0</td>\n",
       "      <td>0</td>\n",
       "      <td>0</td>\n",
       "      <td>...</td>\n",
       "      <td>0</td>\n",
       "      <td>0</td>\n",
       "      <td>0</td>\n",
       "      <td>0</td>\n",
       "      <td>0</td>\n",
       "      <td>1</td>\n",
       "      <td>0</td>\n",
       "      <td>1</td>\n",
       "      <td>0</td>\n",
       "      <td>0</td>\n",
       "    </tr>\n",
       "  </tbody>\n",
       "</table>\n",
       "<p>5 rows × 93 columns</p>\n",
       "</div>"
      ],
      "text/plain": [
       "    wants_kids  body_type_a little extra  body_type_athletic  \\\n",
       "0          1.0                         1                   0   \n",
       "1          1.0                         0                   0   \n",
       "7          2.0                         0                   0   \n",
       "14         2.0                         0                   0   \n",
       "22         1.0                         0                   0   \n",
       "\n",
       "    body_type_average  body_type_curvy  body_type_fit  body_type_full figured  \\\n",
       "0                   0                0              0                       0   \n",
       "1                   1                0              0                       0   \n",
       "7                   1                0              0                       0   \n",
       "14                  0                0              0                       0   \n",
       "22                  0                0              1                       0   \n",
       "\n",
       "    body_type_jacked  body_type_overweight  body_type_rather not say  ...  \\\n",
       "0                  0                     0                         0  ...   \n",
       "1                  0                     0                         0  ...   \n",
       "7                  0                     0                         0  ...   \n",
       "14                 0                     0                         0  ...   \n",
       "22                 0                     0                         0  ...   \n",
       "\n",
       "    smokes_yes  drinks_desperately  drinks_not at all  drinks_often  \\\n",
       "0            0                   0                  0             0   \n",
       "1            0                   0                  0             1   \n",
       "7            0                   0                  0             0   \n",
       "14           0                   0                  0             0   \n",
       "22           0                   0                  0             0   \n",
       "\n",
       "    drinks_rarely  drinks_socially  drinks_very often  drugs_never  \\\n",
       "0               0                1                  0            1   \n",
       "1               0                0                  0            0   \n",
       "7               0                1                  0            1   \n",
       "14              0                1                  0            1   \n",
       "22              0                1                  0            1   \n",
       "\n",
       "    drugs_often  drugs_sometimes  \n",
       "0             0                0  \n",
       "1             0                1  \n",
       "7             0                0  \n",
       "14            0                0  \n",
       "22            0                0  \n",
       "\n",
       "[5 rows x 93 columns]"
      ]
     },
     "execution_count": 301,
     "metadata": {},
     "output_type": "execute_result"
    }
   ],
   "source": [
    "df.head()"
   ]
  },
  {
   "cell_type": "code",
   "execution_count": 302,
   "metadata": {},
   "outputs": [
    {
     "data": {
      "text/plain": [
       "0.0    2506\n",
       "1.0    2192\n",
       "2.0    1915\n",
       "Name: wants_kids, dtype: int64"
      ]
     },
     "execution_count": 302,
     "metadata": {},
     "output_type": "execute_result"
    }
   ],
   "source": [
    "df2['wants_kids'].value_counts()"
   ]
  },
  {
   "cell_type": "code",
   "execution_count": 303,
   "metadata": {},
   "outputs": [],
   "source": [
    "#split the new data into train and test sets using a train size of .75 and test size of .25\n",
    "\n",
    "new_col_length = len(df2.columns)\n",
    "\n",
    "new_X = df2.iloc[:, 1:new_col_length]\n",
    "new_Y = df2.iloc[:, 0:1]\n",
    "\n",
    "val_size = 0.25\n",
    "\n",
    "from sklearn.model_selection import train_test_split \n",
    "X_train, X_val, Y_train, Y_val = train_test_split(new_X, new_Y, test_size=val_size, random_state = 0)\n",
    "\n",
    "Y_train = Y_train.to_numpy().ravel()\n",
    "Y_val = Y_val.to_numpy().ravel()"
   ]
  },
  {
   "cell_type": "code",
   "execution_count": 304,
   "metadata": {},
   "outputs": [],
   "source": [
    "### New and improved prediction"
   ]
  },
  {
   "cell_type": "code",
   "execution_count": 305,
   "metadata": {},
   "outputs": [
    {
     "data": {
      "text/plain": [
       "0.5507859733978234"
      ]
     },
     "execution_count": 305,
     "metadata": {},
     "output_type": "execute_result"
    }
   ],
   "source": [
    "logistic_model = LogisticRegression(multi_class=\"multinomial\",max_iter=300)\n",
    "logistic_model.fit(X_train, Y_train)\n",
    "logistic_predictions = logistic_model.predict(X_val)\n",
    "\n",
    "logistic_model.score(X_val,Y_val)"
   ]
  },
  {
   "cell_type": "code",
   "execution_count": 306,
   "metadata": {},
   "outputs": [
    {
     "name": "stdout",
     "output_type": "stream",
     "text": [
      "              precision    recall  f1-score   support\n",
      "\n",
      "         0.0       0.65      0.72      0.68       607\n",
      "         1.0       0.44      0.37      0.40       555\n",
      "         2.0       0.53      0.55      0.54       492\n",
      "\n",
      "    accuracy                           0.55      1654\n",
      "   macro avg       0.54      0.55      0.54      1654\n",
      "weighted avg       0.54      0.55      0.54      1654\n",
      "\n"
     ]
    }
   ],
   "source": [
    "from sklearn.metrics import classification_report\n",
    "print(classification_report(Y_val, logistic_predictions))"
   ]
  },
  {
   "cell_type": "code",
   "execution_count": 307,
   "metadata": {},
   "outputs": [
    {
     "data": {
      "text/plain": [
       "0.45828295042321643"
      ]
     },
     "execution_count": 307,
     "metadata": {},
     "output_type": "execute_result"
    }
   ],
   "source": [
    "classifier.fit(X_train, Y_train)\n",
    "tree_predictions = classifier.predict(X_val)\n",
    "classifier.score(X_val,Y_val)"
   ]
  },
  {
   "cell_type": "code",
   "execution_count": 308,
   "metadata": {},
   "outputs": [
    {
     "name": "stdout",
     "output_type": "stream",
     "text": [
      "              precision    recall  f1-score   support\n",
      "\n",
      "         0.0       0.55      0.57      0.56       607\n",
      "         1.0       0.39      0.39      0.39       555\n",
      "         2.0       0.42      0.40      0.41       492\n",
      "\n",
      "    accuracy                           0.46      1654\n",
      "   macro avg       0.45      0.45      0.45      1654\n",
      "weighted avg       0.46      0.46      0.46      1654\n",
      "\n"
     ]
    }
   ],
   "source": [
    "print(classification_report(Y_val, tree_predictions))"
   ]
  },
  {
   "cell_type": "code",
   "execution_count": 309,
   "metadata": {},
   "outputs": [
    {
     "data": {
      "text/plain": [
       "0.44135429262394194"
      ]
     },
     "execution_count": 309,
     "metadata": {},
     "output_type": "execute_result"
    }
   ],
   "source": [
    "k_classifier.fit(X_train, Y_train)\n",
    "k_predictions = k_classifier.predict(X_val)\n",
    "k_classifier.score(X_val,Y_val)"
   ]
  },
  {
   "cell_type": "code",
   "execution_count": 310,
   "metadata": {},
   "outputs": [
    {
     "name": "stdout",
     "output_type": "stream",
     "text": [
      "              precision    recall  f1-score   support\n",
      "\n",
      "         0.0       0.51      0.58      0.54       607\n",
      "         1.0       0.38      0.38      0.38       555\n",
      "         2.0       0.41      0.34      0.37       492\n",
      "\n",
      "    accuracy                           0.44      1654\n",
      "   macro avg       0.43      0.43      0.43      1654\n",
      "weighted avg       0.44      0.44      0.44      1654\n",
      "\n"
     ]
    }
   ],
   "source": [
    "print(classification_report(Y_val, k_predictions))"
   ]
  },
  {
   "cell_type": "code",
   "execution_count": 311,
   "metadata": {},
   "outputs": [
    {
     "data": {
      "image/png": "[encoded data removed]",
      "text/plain": [
       "<Figure size 720x504 with 2 Axes>"
      ]
     },
     "metadata": {
      "needs_background": "light"
     },
     "output_type": "display_data"
    }
   ],
   "source": [
    "confusion = confusion_matrix(Y_val, logistic_predictions)\n",
    "labels = logistic_model.classes_\n",
    "\n",
    "plt.figure(figsize=(10,7))\n",
    "\n",
    "ax= plt.subplot()\n",
    "sns.heatmap(confusion, annot=True, ax = ax, fmt=\"d\");\n",
    "\n",
    "ax.set_xlabel('Predicted labels');\n",
    "ax.set_ylabel('True labels'); \n",
    "ax.set_title('Confusion Matrix');\n",
    "ax.yaxis.set_tick_params(rotation=360)\n",
    "ax.xaxis.set_tick_params(rotation=90)\n",
    "\n",
    "ax.xaxis.set_ticklabels(labels);\n",
    "ax.yaxis.set_ticklabels(labels);"
   ]
  },
  {
   "cell_type": "code",
   "execution_count": 312,
   "metadata": {},
   "outputs": [],
   "source": [
    "### Conclusion\n"
   ]
  },
  {
   "cell_type": "code",
   "execution_count": 313,
   "metadata": {},
   "outputs": [],
   "source": [
    "## As you can see, all of the models have improved results now, but their scores are still low.\n",
    "\n",
    "# The logistic model still performs best with a score of around .55(the previous score was .46). \n",
    "\n",
    "# Remember, random guessing would result in a score of .33.\n",
    "\n",
    "# My model now performs .22 better than randomly guessing\n"
   ]
  },
  {
   "cell_type": "code",
   "execution_count": 314,
   "metadata": {},
   "outputs": [],
   "source": [
    "## Next Steps"
   ]
  },
  {
   "cell_type": "code",
   "execution_count": 315,
   "metadata": {},
   "outputs": [],
   "source": [
    "# I would like to see if it is possible to improve the predictive power of the model by using more features that were not provided in this data set. \n",
    "\n",
    "# For example, economic status could be a helpful feature. \n",
    "# In the dataset I worked with, most people chose not to report their income, therefore, most of the values were nan for income.\n",
    "\n",
    "# Another option to increase predictive power would be to explore other models. In this project, I only used a logistic Regression, K_Neighbors, and Random Forest classifier."
   ]
  },
  {
   "cell_type": "code",
   "execution_count": 316,
   "metadata": {},
   "outputs": [],
   "source": [
    "### Ultimately, knowing whether a user wants kids or not will help dating app algorithms fill in nan values and recommend better matches resulting in greater user experience."
   ]
  },
  {
   "cell_type": "code",
   "execution_count": null,
   "metadata": {},
   "outputs": [],
   "source": []
  }
 ],
 "metadata": {
  "kernelspec": {
   "display_name": "Python 3 (ipykernel)",
   "language": "python",
   "name": "python3"
  },
  "language_info": {
   "codemirror_mode": {
    "name": "ipython",
    "version": 3
   },
   "file_extension": ".py",
   "mimetype": "text/x-python",
   "name": "python",
   "nbconvert_exporter": "python",
   "pygments_lexer": "ipython3",
   "version": "3.9.7"
  }
 },
 "nbformat": 4,
 "nbformat_minor": 4
}
